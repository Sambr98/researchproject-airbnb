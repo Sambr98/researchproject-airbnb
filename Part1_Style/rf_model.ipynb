{
 "cells": [
  {
   "cell_type": "markdown",
   "metadata": {},
   "source": [
    "# Notebook to make Style estimations with Random Forest"
   ]
  },
  {
   "cell_type": "code",
   "execution_count": null,
   "metadata": {},
   "outputs": [],
   "source": [
    "import pandas as pd\n",
    "import csv\n",
    "import numpy as np\n",
    "import matplotlib.pyplot as plt\n",
    "import seaborn as sns\n",
    "from scipy.stats import shapiro\n",
    "from sklearn.ensemble import RandomForestRegressor\n",
    "from sklearn.preprocessing import StandardScaler\n",
    "from sklearn.model_selection import train_test_split\n",
    "from sklearn.metrics import mean_squared_error, mean_absolute_error, r2_score\n",
    "from scipy import stats\n",
    "import itertools\n",
    "import time\n",
    "\n",
    "%matplotlib inline\n",
    "plt.style.use('ggplot')"
   ]
  },
  {
   "cell_type": "markdown",
   "metadata": {},
   "source": [
    "### Importing style metrics and IMDs"
   ]
  },
  {
   "cell_type": "code",
   "execution_count": null,
   "metadata": {},
   "outputs": [],
   "source": [
    "metrics = pd.read_csv(\"../data/london_metrics.csv\")"
   ]
  },
  {
   "cell_type": "code",
   "execution_count": null,
   "metadata": {},
   "outputs": [],
   "source": [
    "imd_per_ward = pd.read_csv(\"../data/imd_per_ward.csv\")[['WD17CD','Index of Multiple Deprivation (IMD) Score','Education, Skills and Training Score','Employment Score (rate)','Income Score (rate)']]\n",
    "imd_per_ward = imd_per_ward.rename(columns={\"Index of Multiple Deprivation (IMD) Score\": \"IMD\", \"Education, Skills and Training Score\" : \"IMD_Edu\", 'Employment Score (rate)' : 'IMD_Emp', 'Income Score (rate)': 'IMD_Inc'})"
   ]
  },
  {
   "cell_type": "code",
   "execution_count": null,
   "metadata": {},
   "outputs": [],
   "source": [
    "metrics_imd = metrics.merge(imd_per_ward, left_on=\"ward\", right_on=\"WD17CD\").drop(columns=['ward','WD17CD'])"
   ]
  },
  {
   "cell_type": "code",
   "execution_count": null,
   "metadata": {},
   "outputs": [],
   "source": [
    "X = metrics_imd.drop(['IMD','IMD_Edu','IMD_Emp','IMD_Inc'],axis=1)\n",
    "y = metrics_imd[['IMD']]"
   ]
  },
  {
   "cell_type": "markdown",
   "metadata": {},
   "source": [
    "### Doing estimations"
   ]
  },
  {
   "cell_type": "code",
   "execution_count": null,
   "metadata": {},
   "outputs": [],
   "source": [
    "X_ = X.copy()\n",
    "y_ = y.copy()"
   ]
  },
  {
   "cell_type": "code",
   "execution_count": null,
   "metadata": {},
   "outputs": [],
   "source": [
    "def cross_validate(inputs, labels, n, params):\n",
    "    RMSEs = []\n",
    "    MAEs = []\n",
    "    SCorrs = []\n",
    "    for i in range(n):\n",
    "        X_train, X_valid, y_train, y_valid = train_test_split(inputs, labels, test_size=0.2)\n",
    "        \n",
    "        rf = RandomForestRegressor(n_estimators=params[0], max_depth=params[1])\n",
    "        rf.fit(X_train, y_train['IMD'])\n",
    "        y_pred = rf.predict(X_valid)\n",
    "\n",
    "        RMSEs.append((mean_squared_error(y_valid, y_pred, squared=False)))\n",
    "        MAEs.append((mean_absolute_error(y_valid, y_pred)))\n",
    "        SCorrs.append((stats.spearmanr(y_valid.to_numpy().reshape(y_valid.shape[0],), y_pred)[0]))\n",
    "        \n",
    "    df = pd.DataFrame()\n",
    "    df['RMSE'] = RMSEs\n",
    "    df['MAE'] = MAEs\n",
    "    df['Spearman Correlation'] = SCorrs\n",
    "    \n",
    "    print(\"Mean RMSE : {}\".format(np.mean(RMSEs)))\n",
    "    print(\"Mean MAE : {}\".format(np.mean(MAEs)))\n",
    "    print(\"Mean Spearman Correlation : {}\".format(np.mean(SCorrs)))\n",
    "    \n",
    "    return df"
   ]
  },
  {
   "cell_type": "code",
   "execution_count": null,
   "metadata": {
    "scrolled": true
   },
   "outputs": [],
   "source": [
    "estimators = [20, 50, 100, 200]\n",
    "depths = [10, 20, 30, None]\n",
    "for e in estimators:\n",
    "    for d in depths:\n",
    "        print(\"Model {}\".format(d))\n",
    "        cross_validate(X_, y_, 200, [e, d])\n",
    "        print()"
   ]
  },
  {
   "cell_type": "code",
   "execution_count": null,
   "metadata": {},
   "outputs": [],
   "source": [
    "# Put selected hyperparameters\n",
    "results = cross_validate(X_, y_, 200, [100, None])"
   ]
  },
  {
   "cell_type": "markdown",
   "metadata": {},
   "source": [
    "### Saving the results to .csv"
   ]
  },
  {
   "cell_type": "code",
   "execution_count": null,
   "metadata": {},
   "outputs": [],
   "source": [
    "results.to_csv(\"../data/temp_results/london_style_rfr.csv\", index=False)"
   ]
  },
  {
   "cell_type": "code",
   "execution_count": null,
   "metadata": {},
   "outputs": [],
   "source": []
  }
 ],
 "metadata": {
  "kernelspec": {
   "display_name": "Python 3",
   "language": "python",
   "name": "python3"
  },
  "language_info": {
   "codemirror_mode": {
    "name": "ipython",
    "version": 3
   },
   "file_extension": ".py",
   "mimetype": "text/x-python",
   "name": "python",
   "nbconvert_exporter": "python",
   "pygments_lexer": "ipython3",
   "version": "3.6.9"
  }
 },
 "nbformat": 4,
 "nbformat_minor": 4
}
