{
 "cells": [
  {
   "cell_type": "markdown",
   "metadata": {},
   "source": [
    "# Notebook to engineer Style features"
   ]
  },
  {
   "cell_type": "code",
   "execution_count": null,
   "metadata": {},
   "outputs": [],
   "source": [
    "import pandas as pd\n",
    "import csv\n",
    "import seaborn as sns\n",
    "import matplotlib.pyplot as plt\n",
    "import nltk\n",
    "\n",
    "from scripts import get_basic_metrics, get_all_readability_metrics, get_pos_metrics, get_wl_metrics, get_spelling_mistakes_metrics\n",
    "\n",
    "import sys\n",
    "sys.path.insert(0, '../')\n",
    "from utils import get_corr_pval"
   ]
  },
  {
   "cell_type": "markdown",
   "metadata": {},
   "source": [
    "### Importing descriptions and IMDs"
   ]
  },
  {
   "cell_type": "code",
   "execution_count": null,
   "metadata": {},
   "outputs": [],
   "source": [
    "descriptions = pd.read_csv(\"../data/airbnb_listings_description/london_listings_description_ward.csv\")[['full_description','ward']]\n",
    "descriptions_per_ward = descriptions.groupby('ward', as_index=False).agg(lambda x: list(x))"
   ]
  },
  {
   "cell_type": "code",
   "execution_count": null,
   "metadata": {},
   "outputs": [],
   "source": [
    "rows = []\n",
    "for i in range(descriptions_per_ward.shape[0]):\n",
    "    if (len(descriptions_per_ward['full_description'][i]) < 5):\n",
    "        rows.append(i)\n",
    "descriptions_per_ward = descriptions_per_ward.drop(rows).reset_index().drop(['index'], axis=1)"
   ]
  },
  {
   "cell_type": "code",
   "execution_count": null,
   "metadata": {},
   "outputs": [],
   "source": [
    "imd_per_ward = pd.read_csv(\"../data/imd_per_ward.csv\")[['WD17CD','Index of Multiple Deprivation (IMD) Score','Education, Skills and Training Score','Employment Score (rate)','Income Score (rate)']]\n",
    "imd_per_ward = imd_per_ward.rename(columns={\"Index of Multiple Deprivation (IMD) Score\": \"IMD\", \"Education, Skills and Training Score\" : \"IMD_Edu\", 'Employment Score (rate)' : 'IMD_Emp', 'Income Score (rate)': 'IMD_Inc'})"
   ]
  },
  {
   "cell_type": "markdown",
   "metadata": {},
   "source": [
    "### Get basic metrics for each ward"
   ]
  },
  {
   "cell_type": "code",
   "execution_count": null,
   "metadata": {},
   "outputs": [],
   "source": [
    "basic_metrics_per_ward = descriptions_per_ward.copy()"
   ]
  },
  {
   "cell_type": "code",
   "execution_count": null,
   "metadata": {},
   "outputs": [],
   "source": [
    "basic_metrics_per_ward = get_basic_metrics(basic_metrics_per_ward)"
   ]
  },
  {
   "cell_type": "code",
   "execution_count": null,
   "metadata": {},
   "outputs": [],
   "source": [
    "basic_metrics_imds_per_ward = basic_metrics_per_ward.merge(imd_per_ward, left_on=\"ward\", right_on=\"WD17CD\").drop(columns=['WD17CD'])"
   ]
  },
  {
   "cell_type": "code",
   "execution_count": null,
   "metadata": {},
   "outputs": [],
   "source": [
    "(df_corr, df_pval) = get_corr_pval(basic_metrics_imds_per_ward, [\"char_len\", \"sent_count\", \"word_count\"], [\"IMD\", \"IMD_Edu\", \"IMD_Emp\", \"IMD_Inc\"])"
   ]
  },
  {
   "cell_type": "code",
   "execution_count": null,
   "metadata": {},
   "outputs": [],
   "source": [
    "fig, ax = plt.subplots(figsize=(10,3))\n",
    "sns.heatmap(df_pval, annot=True,  annot_kws={'va':'top','fontsize':'small','c':'white'}, cbar=False)\n",
    "sns.heatmap(df_corr, annot=True, annot_kws={'va':'bottom'})"
   ]
  },
  {
   "cell_type": "markdown",
   "metadata": {},
   "source": [
    "### Get readability metrics for each ward"
   ]
  },
  {
   "cell_type": "code",
   "execution_count": null,
   "metadata": {},
   "outputs": [],
   "source": [
    "read_metrics_per_ward = descriptions_per_ward.copy()"
   ]
  },
  {
   "cell_type": "code",
   "execution_count": null,
   "metadata": {},
   "outputs": [],
   "source": [
    "read_metrics_per_ward = get_all_readability_metrics(read_metrics_per_ward)"
   ]
  },
  {
   "cell_type": "code",
   "execution_count": null,
   "metadata": {},
   "outputs": [],
   "source": [
    "read_metrics_imds_per_ward = read_metrics_per_ward.merge(imd_per_ward, left_on=\"ward\", right_on=\"WD17CD\").drop(columns=['WD17CD'])"
   ]
  },
  {
   "cell_type": "code",
   "execution_count": null,
   "metadata": {},
   "outputs": [],
   "source": [
    "(df_corr, df_pval) = get_corr_pval(read_metrics_imds_per_ward, [\"CLI\", \"ARI\", \"GFI\", \"SMOG\", \"DCRI\", \"FKRI\"], [\"IMD\", \"IMD_Edu\", \"IMD_Emp\", \"IMD_Inc\"])"
   ]
  },
  {
   "cell_type": "code",
   "execution_count": null,
   "metadata": {},
   "outputs": [],
   "source": [
    "fig, ax = plt.subplots(figsize=(10,6))\n",
    "sns.heatmap(df_pval, annot=True,  annot_kws={'va':'top','fontsize':'small','c':'white'}, cbar=False)\n",
    "sns.heatmap(df_corr, annot=True, annot_kws={'va':'bottom'})"
   ]
  },
  {
   "cell_type": "markdown",
   "metadata": {},
   "source": [
    "### Get POS metrics for each ward"
   ]
  },
  {
   "cell_type": "code",
   "execution_count": null,
   "metadata": {},
   "outputs": [],
   "source": [
    "pos_metrics_per_ward = descriptions_per_ward.copy()"
   ]
  },
  {
   "cell_type": "code",
   "execution_count": null,
   "metadata": {},
   "outputs": [],
   "source": [
    "pos_metrics_per_ward = get_pos_metrics(pos_metrics_per_ward)"
   ]
  },
  {
   "cell_type": "code",
   "execution_count": null,
   "metadata": {},
   "outputs": [],
   "source": [
    "pos_metrics_imds_per_ward = pos_metrics_per_ward.merge(imd_per_ward, left_on=\"ward\", right_on=\"WD17CD\").drop(columns=['WD17CD'])"
   ]
  },
  {
   "cell_type": "code",
   "execution_count": null,
   "metadata": {},
   "outputs": [],
   "source": [
    "(df_corr, df_pval) = get_corr_pval(pos_metrics_imds_per_ward, [\"CC_freq\", \"DT_freq\", \"IN_freq\", \"JJ_freq\", \"VB_freq\", \"NN_freq\", \"RB_freq\", \"EX_freq\", \"PO_freq\", \"CD_freq\"], [\"IMD\", \"IMD_Edu\", \"IMD_Emp\", \"IMD_Inc\"])"
   ]
  },
  {
   "cell_type": "code",
   "execution_count": null,
   "metadata": {},
   "outputs": [],
   "source": [
    "fig, ax = plt.subplots(figsize=(10,8))\n",
    "sns.heatmap(df_pval, annot=True,  annot_kws={'va':'top','fontsize':'small','c':'white'}, cbar=False)\n",
    "sns.heatmap(df_corr, annot=True, annot_kws={'va':'bottom'})"
   ]
  },
  {
   "cell_type": "markdown",
   "metadata": {},
   "source": [
    "### Get word-level metrics for each ward"
   ]
  },
  {
   "cell_type": "code",
   "execution_count": null,
   "metadata": {},
   "outputs": [],
   "source": [
    "wl_metrics_per_ward = descriptions_per_ward.copy()"
   ]
  },
  {
   "cell_type": "code",
   "execution_count": null,
   "metadata": {},
   "outputs": [],
   "source": [
    "wl_metrics_per_ward = get_wl_metrics(wl_metrics_per_ward)"
   ]
  },
  {
   "cell_type": "code",
   "execution_count": null,
   "metadata": {},
   "outputs": [],
   "source": [
    "wl_metrics_imds_per_ward = wl_metrics_per_ward.merge(imd_per_ward, left_on=\"ward\", right_on=\"WD17CD\").drop(columns=['WD17CD'])"
   ]
  },
  {
   "cell_type": "code",
   "execution_count": null,
   "metadata": {},
   "outputs": [],
   "source": [
    "(df_corr, df_pval) = get_corr_pval(wl_metrics_imds_per_ward, [\"hapax_freq\", \"hapax_dis_freq\", \"yules_k\", \"brunet_w\", \"honore_r\", \"simpson\"], [\"IMD\", \"IMD_Edu\", \"IMD_Emp\", \"IMD_Inc\"])"
   ]
  },
  {
   "cell_type": "code",
   "execution_count": null,
   "metadata": {},
   "outputs": [],
   "source": [
    "fig, ax = plt.subplots(figsize=(10,6))\n",
    "sns.heatmap(df_pval, annot=True,  annot_kws={'va':'top','fontsize':'small','c':'white'}, cbar=False)\n",
    "sns.heatmap(df_corr, annot=True, annot_kws={'va':'bottom'})"
   ]
  },
  {
   "cell_type": "markdown",
   "metadata": {},
   "source": [
    "### Get spelling mistakes metrics for each ward"
   ]
  },
  {
   "cell_type": "code",
   "execution_count": null,
   "metadata": {},
   "outputs": [],
   "source": [
    "spe_metrics_per_ward = descriptions_per_ward.copy()"
   ]
  },
  {
   "cell_type": "code",
   "execution_count": null,
   "metadata": {},
   "outputs": [],
   "source": [
    "spe_metrics_per_ward = get_spelling_mistakes_metrics(spe_metrics_per_ward, \"../\")"
   ]
  },
  {
   "cell_type": "code",
   "execution_count": null,
   "metadata": {},
   "outputs": [],
   "source": [
    "spe_metrics_imds_per_ward = spe_metrics_per_ward.merge(imd_per_ward, left_on=\"ward\", right_on=\"WD17CD\").drop(columns=['WD17CD'])"
   ]
  },
  {
   "cell_type": "code",
   "execution_count": null,
   "metadata": {},
   "outputs": [],
   "source": [
    "(df_corr, df_pval) = get_corr_pval(spe_metrics_imds_per_ward, [\"spelling_mistakes_freq\"], [\"IMD\", \"IMD_Edu\", \"IMD_Emp\", \"IMD_Inc\"])"
   ]
  },
  {
   "cell_type": "code",
   "execution_count": null,
   "metadata": {},
   "outputs": [],
   "source": [
    "fig, ax = plt.subplots(figsize=(10,1))\n",
    "sns.heatmap(df_pval, annot=True,  annot_kws={'va':'top','fontsize':'small','c':'white'}, cbar=False)\n",
    "sns.heatmap(df_corr, annot=True, annot_kws={'va':'bottom'})"
   ]
  },
  {
   "cell_type": "markdown",
   "metadata": {},
   "source": [
    "### Output a selection of the metrics to .csv"
   ]
  },
  {
   "cell_type": "code",
   "execution_count": null,
   "metadata": {},
   "outputs": [],
   "source": [
    "total_metrics = basic_metrics_per_ward.merge(read_metrics_per_ward.drop('full_description',axis=1),on=\"ward\").merge(pos_metrics_per_ward.drop('full_description',axis=1),on=\"ward\").merge(wl_metrics_per_ward.drop('full_description',axis=1),on=\"ward\").merge(spe_metrics_per_ward.drop('full_description',axis=1),on=\"ward\").drop('full_description',axis=1)"
   ]
  },
  {
   "cell_type": "code",
   "execution_count": null,
   "metadata": {},
   "outputs": [],
   "source": [
    "# Use a selection of features here\n",
    "final_metrics = total_metrics[[\"ward\", \"sent_count\", \"word_count\", \"CLI\", \"ARI\", \"GFI\", \"SMOG\", \"DCRI\", \"FKRI\", \"CC_freq\", \"DT_freq\", \"IN_freq\", \"JJ_freq\", \"VB_freq\", \"NN_freq\", \"RB_freq\", \"EX_freq\", \"PO_freq\", \"CD_freq\", \"hapax_freq\", \"hapax_dis_freq\", \"yules_k\", \"brunet_w\", \"honore_r\", \"spelling_mistakes_freq\"]]"
   ]
  },
  {
   "cell_type": "code",
   "execution_count": null,
   "metadata": {},
   "outputs": [],
   "source": [
    "final_metrics.to_csv(\"../data/london_metrics.csv\", index=False)"
   ]
  },
  {
   "cell_type": "code",
   "execution_count": null,
   "metadata": {},
   "outputs": [],
   "source": []
  }
 ],
 "metadata": {
  "kernelspec": {
   "display_name": "Python 3",
   "language": "python",
   "name": "python3"
  },
  "language_info": {
   "codemirror_mode": {
    "name": "ipython",
    "version": 3
   },
   "file_extension": ".py",
   "mimetype": "text/x-python",
   "name": "python",
   "nbconvert_exporter": "python",
   "pygments_lexer": "ipython3",
   "version": "3.6.9"
  }
 },
 "nbformat": 4,
 "nbformat_minor": 4
}
