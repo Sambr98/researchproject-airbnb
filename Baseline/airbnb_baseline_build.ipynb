{
 "cells": [
  {
   "cell_type": "markdown",
   "metadata": {},
   "source": [
    "# Notebook to build baseline datasets, in the UK and US"
   ]
  },
  {
   "cell_type": "code",
   "execution_count": null,
   "metadata": {},
   "outputs": [],
   "source": [
    "import pandas as pd\n",
    "import geopandas as gpd\n",
    "from shapely.geometry import *"
   ]
  },
  {
   "cell_type": "markdown",
   "metadata": {},
   "source": [
    "## In the UK"
   ]
  },
  {
   "cell_type": "markdown",
   "metadata": {},
   "source": [
    "### Choosing the cities"
   ]
  },
  {
   "cell_type": "code",
   "execution_count": null,
   "metadata": {},
   "outputs": [],
   "source": [
    "cities = [\"bristol\",\"manchester\",\"london\"]"
   ]
  },
  {
   "cell_type": "markdown",
   "metadata": {},
   "source": [
    "### Loading the listings"
   ]
  },
  {
   "cell_type": "code",
   "execution_count": null,
   "metadata": {},
   "outputs": [],
   "source": [
    "frames = []\n",
    "for i in cities:\n",
    "    new_listings = pd.read_csv(\"../original_data/airbnb_data/\" + i + \"_listings.csv\")[['id','name','room_type','latitude','longitude']]\n",
    "    frames.append(new_listings)\n",
    "listings = pd.concat(frames).reset_index(drop=True)"
   ]
  },
  {
   "cell_type": "markdown",
   "metadata": {},
   "source": [
    "### Filtering the data\n",
    " - Keeping only entire properties\n",
    " - Dropping duplicates"
   ]
  },
  {
   "cell_type": "code",
   "execution_count": null,
   "metadata": {},
   "outputs": [],
   "source": [
    "listings_ = listings[listings['room_type'] == 'Entire home/apt']\n",
    "listings_ = listings_.drop_duplicates('name').reset_index(drop=True)"
   ]
  },
  {
   "cell_type": "markdown",
   "metadata": {},
   "source": [
    "### Adding wards and counting properties per area"
   ]
  },
  {
   "cell_type": "code",
   "execution_count": null,
   "metadata": {},
   "outputs": [],
   "source": [
    "gdf = gpd.read_file('../original_data/UK_wards_2017/Wards__December_2017__Boundaries_in_GB.shp').to_crs(epsg=4326)"
   ]
  },
  {
   "cell_type": "code",
   "execution_count": null,
   "metadata": {
    "scrolled": true
   },
   "outputs": [],
   "source": [
    "ward_to_add = []\n",
    "size = listings_.shape[0]\n",
    "for i in range(size):\n",
    "    print(\"{}/{}\".format(i, size), end='\\r')\n",
    "    point = Point(listings_[\"longitude\"][i], listings_[\"latitude\"][i])\n",
    "    value = None\n",
    "    for j in range(gdf.shape[0]):\n",
    "        if gdf[\"geometry\"][j].contains(point):\n",
    "            value = gdf[\"wd17cd\"][j]\n",
    "            break\n",
    "    ward_to_add.append(value)\n",
    "listings_[\"ward\"] = ward_to_add"
   ]
  },
  {
   "cell_type": "code",
   "execution_count": null,
   "metadata": {},
   "outputs": [],
   "source": [
    "ward_count = pd.DataFrame(listings_['ward'].value_counts()).reset_index().rename(columns={\"index\": \"ward\", \"ward\": \"count\"})"
   ]
  },
  {
   "cell_type": "markdown",
   "metadata": {},
   "source": [
    "### Saving to .csv"
   ]
  },
  {
   "cell_type": "code",
   "execution_count": null,
   "metadata": {},
   "outputs": [],
   "source": [
    "ward_count.to_csv(\"../data/uk_metrics_baseline.csv\", index=False)"
   ]
  },
  {
   "cell_type": "markdown",
   "metadata": {},
   "source": [
    "## In the US"
   ]
  },
  {
   "cell_type": "markdown",
   "metadata": {},
   "source": [
    "### Choosing the cities"
   ]
  },
  {
   "cell_type": "code",
   "execution_count": null,
   "metadata": {},
   "outputs": [],
   "source": [
    "cities = [\"san_francisco\",\"chicago\"]\n",
    "tracts = [\"california_tracts_2018/cb_2018_06_tract_500k.shp\",\"illinois_tracts_2018/tl_2018_17_tract.shp\"]\n",
    "modif = [False,True]"
   ]
  },
  {
   "cell_type": "markdown",
   "metadata": {},
   "source": [
    "### Loading the listings"
   ]
  },
  {
   "cell_type": "code",
   "execution_count": null,
   "metadata": {},
   "outputs": [],
   "source": [
    "frames = []\n",
    "for i in range(len(cities)):\n",
    "    new_listings = pd.read_csv(\"original_data/airbnb_data/\" + cities[i] + \"_listings.csv\")[['id','name','room_type','latitude','longitude']]\n",
    "    \n",
    "    gdf = gpd.read_file(\"original_data/\" + tracts[i]).to_crs(epsg=4326)\n",
    "    tract_to_add = []\n",
    "    for k in range(new_listings.shape[0]):\n",
    "        point = Point(new_listings[\"longitude\"][k], new_listings[\"latitude\"][k])\n",
    "        value = None\n",
    "        for j in range(gdf.shape[0]):\n",
    "            if gdf[\"geometry\"][j].contains(point):\n",
    "                if (modif[i]):\n",
    "                    value = \"1400000US\" + gdf[\"GEOID\"][j]\n",
    "                else:\n",
    "                    value = gdf[\"AFFGEOID\"][j]\n",
    "                break\n",
    "        tract_to_add.append(value)\n",
    "    new_listings[\"tract\"] = tract_to_add\n",
    "    \n",
    "    frames.append(new_listings)\n",
    "listings = pd.concat(frames).reset_index(drop=True)"
   ]
  },
  {
   "cell_type": "markdown",
   "metadata": {},
   "source": [
    "### Filtering the data\n",
    " - Keeping only entire properties\n",
    " - Dropping duplicates"
   ]
  },
  {
   "cell_type": "code",
   "execution_count": null,
   "metadata": {},
   "outputs": [],
   "source": [
    "listings_ = listings[listings['room_type'] == 'Entire home/apt']\n",
    "listings_ = listings_.drop_duplicates('name').reset_index(drop=True)"
   ]
  },
  {
   "cell_type": "markdown",
   "metadata": {},
   "source": [
    "### Counting properties per area"
   ]
  },
  {
   "cell_type": "code",
   "execution_count": null,
   "metadata": {},
   "outputs": [],
   "source": [
    "tract_count = pd.DataFrame(listings_['tract'].value_counts()).reset_index().rename(columns={\"index\": \"tract\", \"tract\": \"count\"})"
   ]
  },
  {
   "cell_type": "markdown",
   "metadata": {},
   "source": [
    "### Saving to .csv"
   ]
  },
  {
   "cell_type": "code",
   "execution_count": null,
   "metadata": {},
   "outputs": [],
   "source": [
    "tract_count.to_csv(\"data/us_metrics_baseline.csv\", index=False)"
   ]
  },
  {
   "cell_type": "code",
   "execution_count": null,
   "metadata": {},
   "outputs": [],
   "source": []
  }
 ],
 "metadata": {
  "kernelspec": {
   "display_name": "Python 3",
   "language": "python",
   "name": "python3"
  },
  "language_info": {
   "codemirror_mode": {
    "name": "ipython",
    "version": 3
   },
   "file_extension": ".py",
   "mimetype": "text/x-python",
   "name": "python",
   "nbconvert_exporter": "python",
   "pygments_lexer": "ipython3",
   "version": "3.6.9"
  }
 },
 "nbformat": 4,
 "nbformat_minor": 4
}
