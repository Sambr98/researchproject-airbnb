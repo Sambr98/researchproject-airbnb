{
 "cells": [
  {
   "cell_type": "markdown",
   "metadata": {},
   "source": [
    "# Notebook to engineer Dictionary features"
   ]
  },
  {
   "cell_type": "code",
   "execution_count": null,
   "metadata": {},
   "outputs": [],
   "source": [
    "import pandas as pd\n",
    "import seaborn as sns\n",
    "import matplotlib.pyplot as plt\n",
    "import liwc\n",
    "\n",
    "from scripts import init_dict_dataframe, get_dict\n",
    "\n",
    "import sys\n",
    "sys.path.insert(0, '../../')\n",
    "from utils import get_corr_pval"
   ]
  },
  {
   "cell_type": "markdown",
   "metadata": {},
   "source": [
    "### Importing IMDs and dictionary words"
   ]
  },
  {
   "cell_type": "code",
   "execution_count": null,
   "metadata": {},
   "outputs": [],
   "source": [
    "tokens = pd.read_csv(\"../../data/dictionary/london.csv\")['tokens'].tolist()"
   ]
  },
  {
   "cell_type": "code",
   "execution_count": null,
   "metadata": {},
   "outputs": [],
   "source": [
    "imd_per_ward = pd.read_csv(\"../../data/imd_per_ward.csv\")[['WD17CD','Index of Multiple Deprivation (IMD) Score','Education, Skills and Training Score','Employment Score (rate)','Income Score (rate)']]\n",
    "imd_per_ward = imd_per_ward.rename(columns={\"Index of Multiple Deprivation (IMD) Score\": \"IMD\", \"Education, Skills and Training Score\" : \"IMD_Edu\", 'Employment Score (rate)' : 'IMD_Emp', 'Income Score (rate)': 'IMD_Inc'})"
   ]
  },
  {
   "cell_type": "markdown",
   "metadata": {},
   "source": [
    "### London"
   ]
  },
  {
   "cell_type": "code",
   "execution_count": null,
   "metadata": {},
   "outputs": [],
   "source": [
    "london_descriptions = pd.read_csv(\"../../data/airbnb_listings_description/london_listings_description_ward.csv\")[['full_description','ward']]\n",
    "london_descriptions_per_ward = london_descriptions.groupby('ward', as_index=False).agg(lambda x: list(x))"
   ]
  },
  {
   "cell_type": "code",
   "execution_count": null,
   "metadata": {},
   "outputs": [],
   "source": [
    "rows = []\n",
    "for i in range(london_descriptions_per_ward.shape[0]):\n",
    "    if (len(london_descriptions_per_ward['full_description'][i]) < 5):\n",
    "        rows.append(i)\n",
    "london_descriptions_per_ward = london_descriptions_per_ward.drop(rows).reset_index().drop(['index'], axis=1)"
   ]
  },
  {
   "cell_type": "code",
   "execution_count": null,
   "metadata": {},
   "outputs": [],
   "source": [
    "london_dict_per_ward = london_descriptions_per_ward.copy()"
   ]
  },
  {
   "cell_type": "code",
   "execution_count": null,
   "metadata": {},
   "outputs": [],
   "source": [
    "london_dict_per_ward = init_dict_dataframe(london_dict_per_ward, tokens)\n",
    "london_dict_per_ward = get_dict(london_dict_per_ward, tokens)"
   ]
  },
  {
   "cell_type": "markdown",
   "metadata": {},
   "source": [
    "### Merging the cities"
   ]
  },
  {
   "cell_type": "code",
   "execution_count": null,
   "metadata": {},
   "outputs": [],
   "source": [
    "dict_per_ward = pd.concat([london_dict_per_ward])"
   ]
  },
  {
   "cell_type": "code",
   "execution_count": null,
   "metadata": {},
   "outputs": [],
   "source": [
    "dict_imds_per_ward = dict_per_ward.merge(imd_per_ward, left_on=\"ward\", right_on=\"WD17CD\").drop(columns=['WD17CD'])"
   ]
  },
  {
   "cell_type": "code",
   "execution_count": null,
   "metadata": {},
   "outputs": [],
   "source": [
    "to_remove = ['ward','full_description','IMD','IMD_Edu','IMD_Emp','IMD_Inc']\n",
    "cols = list(dict_imds_per_ward.columns)\n",
    "for i in to_remove:\n",
    "    cols.remove(i)"
   ]
  },
  {
   "cell_type": "code",
   "execution_count": null,
   "metadata": {},
   "outputs": [],
   "source": [
    "(df_corr, df_pval) = get_corr_pval(dict_imds_per_ward, cols, [\"IMD\", \"IMD_Edu\", \"IMD_Emp\", \"IMD_Inc\"])"
   ]
  },
  {
   "cell_type": "code",
   "execution_count": null,
   "metadata": {
    "scrolled": false
   },
   "outputs": [],
   "source": [
    "fig, ax = plt.subplots(figsize=(15,100))\n",
    "sns.heatmap(df_pval, annot=True,  annot_kws={'va':'top','fontsize':'small','c':'white'}, cbar=False)\n",
    "sns.heatmap(df_corr, annot=True, annot_kws={'va':'bottom'})"
   ]
  },
  {
   "cell_type": "markdown",
   "metadata": {},
   "source": [
    "### Filtering the features (words)"
   ]
  },
  {
   "cell_type": "code",
   "execution_count": null,
   "metadata": {},
   "outputs": [],
   "source": [
    "to_remove = []\n",
    "for i in tokens:\n",
    "    if (df_pval.loc[i]['IMD'] > 0.05 and df_pval.loc[i]['IMD_Edu'] > 0.05 and df_pval.loc[i]['IMD_Emp'] > 0.05 and df_pval.loc[i]['IMD_Inc'] > 0.05):\n",
    "        to_remove.append(i)"
   ]
  },
  {
   "cell_type": "markdown",
   "metadata": {},
   "source": [
    "### Output to .csv file"
   ]
  },
  {
   "cell_type": "code",
   "execution_count": null,
   "metadata": {},
   "outputs": [],
   "source": [
    "cols_out = ['full_description','IMD','IMD_Edu','IMD_Emp','IMD_Inc'] + to_remove\n",
    "final_dict = dict_imds_per_ward.copy().drop(cols_out, axis=1).reset_index(drop=True)"
   ]
  },
  {
   "cell_type": "code",
   "execution_count": null,
   "metadata": {},
   "outputs": [],
   "source": [
    "final_dict.to_csv(\"../../data/london_dict.csv\", index=False)"
   ]
  },
  {
   "cell_type": "code",
   "execution_count": null,
   "metadata": {},
   "outputs": [],
   "source": []
  }
 ],
 "metadata": {
  "kernelspec": {
   "display_name": "Python 3",
   "language": "python",
   "name": "python3"
  },
  "language_info": {
   "codemirror_mode": {
    "name": "ipython",
    "version": 3
   },
   "file_extension": ".py",
   "mimetype": "text/x-python",
   "name": "python",
   "nbconvert_exporter": "python",
   "pygments_lexer": "ipython3",
   "version": "3.6.9"
  }
 },
 "nbformat": 4,
 "nbformat_minor": 2
}
