{
 "cells": [
  {
   "cell_type": "markdown",
   "metadata": {},
   "source": [
    "# Notebook to engineer socio-economic indices, in the US"
   ]
  },
  {
   "cell_type": "code",
   "execution_count": null,
   "metadata": {},
   "outputs": [],
   "source": [
    "import pandas as pd"
   ]
  },
  {
   "cell_type": "markdown",
   "metadata": {},
   "source": [
    "### Choosing the state"
   ]
  },
  {
   "cell_type": "code",
   "execution_count": null,
   "metadata": {},
   "outputs": [],
   "source": [
    "state = 'new_york'"
   ]
  },
  {
   "cell_type": "markdown",
   "metadata": {},
   "source": [
    "### Poverty"
   ]
  },
  {
   "cell_type": "code",
   "execution_count": null,
   "metadata": {
    "scrolled": true
   },
   "outputs": [],
   "source": [
    "poverty = pd.read_csv('../original_data/us_census/' + state + '/poverty.csv')"
   ]
  },
  {
   "cell_type": "code",
   "execution_count": null,
   "metadata": {},
   "outputs": [],
   "source": [
    "poverty = poverty[['GEO_ID','S1701_C03_001E']]\n",
    "poverty = poverty.rename(columns={\"GEO_ID\": \"tract\", \"S1701_C03_001E\": \"poverty\"})\n",
    "poverty = poverty.drop([0]).reset_index(drop=True)"
   ]
  },
  {
   "cell_type": "markdown",
   "metadata": {},
   "source": [
    "### Employment"
   ]
  },
  {
   "cell_type": "code",
   "execution_count": null,
   "metadata": {
    "scrolled": false
   },
   "outputs": [],
   "source": [
    "employment = pd.read_csv('../original_data/us_census/' + state + '/employment.csv')"
   ]
  },
  {
   "cell_type": "code",
   "execution_count": null,
   "metadata": {},
   "outputs": [],
   "source": [
    "employment = employment[['GEO_ID','S2301_C04_001E']]\n",
    "employment = employment.rename(columns={\"GEO_ID\": \"tract\", \"S2301_C04_001E\": \"unemployment\"})\n",
    "employment = employment.drop([0]).reset_index(drop=True)"
   ]
  },
  {
   "cell_type": "markdown",
   "metadata": {},
   "source": [
    "### Income"
   ]
  },
  {
   "cell_type": "code",
   "execution_count": null,
   "metadata": {
    "scrolled": false
   },
   "outputs": [],
   "source": [
    "income = pd.read_csv('../original_data/us_census/' + state + '/income.csv')"
   ]
  },
  {
   "cell_type": "code",
   "execution_count": null,
   "metadata": {},
   "outputs": [],
   "source": [
    "income = income[['GEO_ID','S1901_C01_012E']]\n",
    "income = income.rename(columns={\"GEO_ID\": \"tract\", \"S1901_C01_012E\": \"income\"})\n",
    "income = income.drop([0]).reset_index(drop=True)"
   ]
  },
  {
   "cell_type": "markdown",
   "metadata": {},
   "source": [
    "### Education"
   ]
  },
  {
   "cell_type": "code",
   "execution_count": null,
   "metadata": {},
   "outputs": [],
   "source": [
    "population = pd.read_csv('../original_data/us_census/' + state + '/population.csv')"
   ]
  },
  {
   "cell_type": "code",
   "execution_count": null,
   "metadata": {},
   "outputs": [],
   "source": [
    "population = population[['GEO_ID','B01003_001E']]\n",
    "population = population.rename(columns={\"GEO_ID\": \"tract\", \"B01003_001E\": \"total_population\"})\n",
    "population = population.drop([0]).reset_index(drop=True)"
   ]
  },
  {
   "cell_type": "code",
   "execution_count": null,
   "metadata": {
    "scrolled": true
   },
   "outputs": [],
   "source": [
    "education = pd.read_csv('../original_data/us_census/' + state + '/education.csv')"
   ]
  },
  {
   "cell_type": "code",
   "execution_count": null,
   "metadata": {},
   "outputs": [],
   "source": [
    "education = education[['GEO_ID','S1502_C01_001E']]\n",
    "education = education.rename(columns={\"GEO_ID\": \"tract\", \"S1502_C01_001E\": \"total_education\"})\n",
    "education = education.drop([0]).reset_index(drop=True)"
   ]
  },
  {
   "cell_type": "code",
   "execution_count": null,
   "metadata": {},
   "outputs": [],
   "source": [
    "final_education = population.merge(education, on=\"tract\")\n",
    "\n",
    "to_add = []\n",
    "for i in range(final_education.shape[0]):\n",
    "    if (int(final_education['total_population'][i]) == 0):\n",
    "        value = 0.0\n",
    "    else:\n",
    "        value = (int(final_education['total_education'][i]) / int(final_education['total_population'][i])) * 100\n",
    "    to_add.append(value)\n",
    "\n",
    "final_education['education'] = to_add\n",
    "final_education = final_education[['tract','education']]"
   ]
  },
  {
   "cell_type": "markdown",
   "metadata": {},
   "source": [
    "### Putting it all together :"
   ]
  },
  {
   "cell_type": "code",
   "execution_count": null,
   "metadata": {},
   "outputs": [],
   "source": [
    "temp = poverty.merge(employment, on=\"tract\")\n",
    "temp2 = temp.merge(final_education, on=\"tract\")\n",
    "indices = temp2.merge(income, on=\"tract\")\n",
    "print(indices.shape)\n",
    "indices.head()"
   ]
  },
  {
   "cell_type": "markdown",
   "metadata": {},
   "source": [
    "### Saving to .csv"
   ]
  },
  {
   "cell_type": "code",
   "execution_count": null,
   "metadata": {},
   "outputs": [],
   "source": [
    "indices.to_csv(\"../data/indices_per_tract_\" + state + \".csv\", index=False)"
   ]
  },
  {
   "cell_type": "code",
   "execution_count": null,
   "metadata": {},
   "outputs": [],
   "source": []
  }
 ],
 "metadata": {
  "kernelspec": {
   "display_name": "Python 3",
   "language": "python",
   "name": "python3"
  },
  "language_info": {
   "codemirror_mode": {
    "name": "ipython",
    "version": 3
   },
   "file_extension": ".py",
   "mimetype": "text/x-python",
   "name": "python",
   "nbconvert_exporter": "python",
   "pygments_lexer": "ipython3",
   "version": "3.6.9"
  }
 },
 "nbformat": 4,
 "nbformat_minor": 4
}
