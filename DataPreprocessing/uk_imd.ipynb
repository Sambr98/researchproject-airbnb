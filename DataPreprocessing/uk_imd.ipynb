{
 "cells": [
  {
   "cell_type": "markdown",
   "metadata": {},
   "source": [
    "# Notebook to engineer IMD and sub-indices, in the UK"
   ]
  },
  {
   "cell_type": "code",
   "execution_count": null,
   "metadata": {},
   "outputs": [],
   "source": [
    "import csv\n",
    "import numpy as np\n",
    "import pandas as pd"
   ]
  },
  {
   "cell_type": "code",
   "execution_count": null,
   "metadata": {},
   "outputs": [],
   "source": [
    "imd = pd.read_csv(\"../original_data/imd_uk_2019.csv\")\n",
    "llsoa_to_ward = pd.read_csv(\"../original_data/llsoa_to_ward_2017.csv\")"
   ]
  },
  {
   "cell_type": "markdown",
   "metadata": {},
   "source": [
    "### Filtering the data"
   ]
  },
  {
   "cell_type": "code",
   "execution_count": null,
   "metadata": {},
   "outputs": [],
   "source": [
    "columns = ['LSOA code (2011)',\n",
    " 'LSOA name (2011)',\n",
    " 'Index of Multiple Deprivation (IMD) Score',\n",
    " 'Income Score (rate)',\n",
    " 'Employment Score (rate)',\n",
    " 'Education, Skills and Training Score',\n",
    " 'Health Deprivation and Disability Score',\n",
    " 'Crime Score',\n",
    " 'Barriers to Housing and Services Score',\n",
    " 'Living Environment Score',\n",
    " 'Income Deprivation Affecting Children Index (IDACI) Score (rate)',\n",
    " 'Income Deprivation Affecting Older People (IDAOPI) Score (rate)',\n",
    " 'Children and Young People Sub-domain Score',\n",
    " 'Adult Skills Sub-domain Score',\n",
    " 'Geographical Barriers Sub-domain Score',\n",
    " 'Wider Barriers Sub-domain Score',\n",
    " 'Indoors Sub-domain Score',\n",
    " 'Outdoors Sub-domain Score']\n",
    "\n",
    "imd_per_lsoa = imd[columns]\n",
    "lsoa_to_ward = llsoa_to_ward[['LSOA11CD', 'WD17CD']]"
   ]
  },
  {
   "cell_type": "markdown",
   "metadata": {},
   "source": [
    "### Computing the median, per ward"
   ]
  },
  {
   "cell_type": "code",
   "execution_count": null,
   "metadata": {},
   "outputs": [],
   "source": [
    "imd_per_lsoa_ward = imd_per_lsoa.merge(lsoa_to_ward, left_on=\"LSOA code (2011)\", right_on=\"LSOA11CD\")\n",
    "imd_per_lsoa_ward = imd_per_lsoa_ward.drop(columns=['LSOA11CD'])\n",
    "\n",
    "imd_per_ward = pd.DataFrame(columns=imd_per_lsoa_ward.columns).drop(columns=['LSOA code (2011)','LSOA name (2011)'])\n",
    "for i in imd_per_lsoa_ward['WD17CD'].unique():\n",
    "    imd_per_ward = imd_per_ward.append(imd_per_lsoa_ward[imd_per_lsoa_ward['WD17CD'] == i].median().append(pd.Series([i], ['WD17CD'])), ignore_index=True)"
   ]
  },
  {
   "cell_type": "markdown",
   "metadata": {},
   "source": [
    "### Adding a column with the ward number"
   ]
  },
  {
   "cell_type": "code",
   "execution_count": null,
   "metadata": {},
   "outputs": [],
   "source": [
    "col_name = \"WD17CD\"\n",
    "first_col = imd_per_ward.pop(col_name)\n",
    "imd_per_ward.insert(0, col_name, first_col)\n",
    "imd_per_ward.head()"
   ]
  },
  {
   "cell_type": "markdown",
   "metadata": {},
   "source": [
    "### Saving to .csv"
   ]
  },
  {
   "cell_type": "code",
   "execution_count": null,
   "metadata": {},
   "outputs": [],
   "source": [
    "imd_per_ward.to_csv(\"../data/imd_per_ward.csv\", index=False)"
   ]
  },
  {
   "cell_type": "code",
   "execution_count": null,
   "metadata": {},
   "outputs": [],
   "source": []
  }
 ],
 "metadata": {
  "kernelspec": {
   "display_name": "Python 3",
   "language": "python",
   "name": "python3"
  },
  "language_info": {
   "codemirror_mode": {
    "name": "ipython",
    "version": 3
   },
   "file_extension": ".py",
   "mimetype": "text/x-python",
   "name": "python",
   "nbconvert_exporter": "python",
   "pygments_lexer": "ipython3",
   "version": "3.6.9"
  }
 },
 "nbformat": 4,
 "nbformat_minor": 4
}
