{
 "cells": [
  {
   "cell_type": "markdown",
   "metadata": {},
   "source": [
    "# Notebook to build an Airbnb dataset in the UK"
   ]
  },
  {
   "cell_type": "code",
   "execution_count": null,
   "metadata": {},
   "outputs": [],
   "source": [
    "import csv\n",
    "import pandas as pd\n",
    "import geopandas as gpd\n",
    "from shapely.geometry import *\n",
    "from langdetect import detect\n",
    "import textstat\n",
    "from fuzzywuzzy import fuzz\n",
    "\n",
    "from scripts import clean_text"
   ]
  },
  {
   "cell_type": "markdown",
   "metadata": {},
   "source": [
    "### Choose cities"
   ]
  },
  {
   "cell_type": "code",
   "execution_count": null,
   "metadata": {},
   "outputs": [],
   "source": [
    "cities = [\"bristol\",\"manchester\",\"london\"]"
   ]
  },
  {
   "cell_type": "markdown",
   "metadata": {},
   "source": [
    "### Loading listings\n",
    " - Loading the dataset\n",
    " - Concatenating the description fields\n",
    " - Doing some data cleaning"
   ]
  },
  {
   "cell_type": "code",
   "execution_count": null,
   "metadata": {},
   "outputs": [],
   "source": [
    "frames = []\n",
    "for i in cities:\n",
    "    new_listings = pd.read_csv(\"../original_data/airbnb_data/\" + i + \"_listings.csv\")[['id','summary','space','description','neighborhood_overview','notes','interaction','house_rules','host_about','host_id','latitude','longitude']]\n",
    "    frames.append(new_listings)\n",
    "listings = pd.concat(frames).reset_index(drop=True)\n",
    "\n",
    "columns = ['summary','space','description','neighborhood_overview','notes','interaction','house_rules','host_about']\n",
    "to_add = []\n",
    "for i in range(listings.shape[0]):\n",
    "    description = \"\"\n",
    "    for j in columns:\n",
    "        item = listings[j][i]\n",
    "        if (isinstance(item, str)):\n",
    "            description += clean_text(item)\n",
    "    description = description[:-1]\n",
    "    to_add.append(description)\n",
    "listings['full_description'] = to_add\n",
    "\n",
    "listings = listings[['id', 'full_description', 'latitude', 'longitude', 'host_id']]"
   ]
  },
  {
   "cell_type": "markdown",
   "metadata": {},
   "source": [
    "### First round of data cleaning\n",
    " - Removing duplicate descriptions\n",
    " - Removing too short descriptions\n",
    " - Removing rows with non-English description"
   ]
  },
  {
   "cell_type": "code",
   "execution_count": null,
   "metadata": {},
   "outputs": [],
   "source": [
    "listings = listings.drop_duplicates('full_description').reset_index(drop=True)"
   ]
  },
  {
   "cell_type": "code",
   "execution_count": null,
   "metadata": {},
   "outputs": [],
   "source": [
    "to_add = []\n",
    "for i in range(listings.shape[0]):\n",
    "    sent_count = textstat.sentence_count(listings['full_description'][i])\n",
    "    to_add.append(sent_count)\n",
    "listings['sent_count'] = to_add\n",
    "listings = listings[listings['sent_count'] > 2].reset_index(drop=True).drop('sent_count', axis=1)"
   ]
  },
  {
   "cell_type": "code",
   "execution_count": null,
   "metadata": {},
   "outputs": [],
   "source": [
    "to_add = []\n",
    "for i in range(listings.shape[0]):\n",
    "    try:\n",
    "        blob = detect(listings['full_description'][i])\n",
    "        to_add.append(blob)\n",
    "    except:\n",
    "        to_add.append(\"None\")\n",
    "listings['lang'] = to_add\n",
    "listings = listings[listings['lang'] == \"en\"].reset_index(drop=True).drop('lang', axis=1)"
   ]
  },
  {
   "cell_type": "markdown",
   "metadata": {},
   "source": [
    "### Adding the wards to the listings\n",
    " - Loading the shapefile for UK Wards\n",
    " - Using coordinates to determine wards"
   ]
  },
  {
   "cell_type": "code",
   "execution_count": null,
   "metadata": {},
   "outputs": [],
   "source": [
    "gdf = gpd.read_file('../original_data/UK_wards_2017/Wards__December_2017__Boundaries_in_GB.shp').to_crs(epsg=4326)"
   ]
  },
  {
   "cell_type": "code",
   "execution_count": null,
   "metadata": {},
   "outputs": [],
   "source": [
    "ward_to_add = []\n",
    "size = listings.shape[0]\n",
    "for i in range(size):\n",
    "    print(\"{}/{}\".format(i, size), end='\\r')\n",
    "    point = Point(listings[\"longitude\"][i], listings[\"latitude\"][i])\n",
    "    value = None\n",
    "    for j in range(gdf.shape[0]):\n",
    "        if gdf[\"geometry\"][j].contains(point):\n",
    "            value = gdf[\"wd17cd\"][j]\n",
    "            break\n",
    "    ward_to_add.append(value)\n",
    "listings[\"ward\"] = ward_to_add"
   ]
  },
  {
   "cell_type": "markdown",
   "metadata": {},
   "source": [
    "### Final cleaning of the dataset\n",
    " - Removing 'None' wards (not found, in the water, etc)\n",
    " - Removing 'Fuzzy' duplicate descriptions"
   ]
  },
  {
   "cell_type": "code",
   "execution_count": null,
   "metadata": {},
   "outputs": [],
   "source": [
    "listings = listings[listings['ward'].notnull()].reset_index(drop=True)"
   ]
  },
  {
   "cell_type": "code",
   "execution_count": null,
   "metadata": {
    "scrolled": true
   },
   "outputs": [],
   "source": [
    "idx = 0\n",
    "while (idx < listings.shape[0]):\n",
    "    print(\"{}/{}\".format(idx, listings.shape[0]), end='\\r')\n",
    "    subset = listings[(listings['ward'] == listings['ward'][idx]) & (listings['host_id'] == listings['host_id'][idx])].drop(idx)\n",
    "    to_remove = []\n",
    "    for index, row in subset.iterrows():\n",
    "        if (fuzz.ratio(listings['full_description'][idx], row['full_description']) > 60):\n",
    "            to_remove.append(index)\n",
    "    listings = listings.drop(listings.index[to_remove]).reset_index(drop=True)\n",
    "    idx += 1"
   ]
  },
  {
   "cell_type": "markdown",
   "metadata": {},
   "source": [
    "### Saving the dataset to .csv"
   ]
  },
  {
   "cell_type": "code",
   "execution_count": null,
   "metadata": {},
   "outputs": [],
   "source": [
    "listings_out = listings[['id','full_description','ward']]"
   ]
  },
  {
   "cell_type": "code",
   "execution_count": null,
   "metadata": {},
   "outputs": [],
   "source": [
    "listings_out.to_csv(\"../data/airbnb_listings_description/uk_listings_description_ward.csv\", index=False)"
   ]
  },
  {
   "cell_type": "code",
   "execution_count": null,
   "metadata": {},
   "outputs": [],
   "source": []
  }
 ],
 "metadata": {
  "kernelspec": {
   "display_name": "Python 3",
   "language": "python",
   "name": "python3"
  },
  "language_info": {
   "codemirror_mode": {
    "name": "ipython",
    "version": 3
   },
   "file_extension": ".py",
   "mimetype": "text/x-python",
   "name": "python",
   "nbconvert_exporter": "python",
   "pygments_lexer": "ipython3",
   "version": "3.6.9"
  }
 },
 "nbformat": 4,
 "nbformat_minor": 4
}
