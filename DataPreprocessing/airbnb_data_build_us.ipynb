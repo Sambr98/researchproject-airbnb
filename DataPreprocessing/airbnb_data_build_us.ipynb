{
 "cells": [
  {
   "cell_type": "markdown",
   "metadata": {},
   "source": [
    "# Notebook to build an Airbnb dataset in the US"
   ]
  },
  {
   "cell_type": "code",
   "execution_count": null,
   "metadata": {},
   "outputs": [],
   "source": [
    "import csv\n",
    "import pandas as pd\n",
    "import geopandas as gpd\n",
    "from shapely.geometry import *\n",
    "from langdetect import detect\n",
    "import textstat\n",
    "from fuzzywuzzy import fuzz\n",
    "\n",
    "from scripts import clean_text"
   ]
  },
  {
   "cell_type": "markdown",
   "metadata": {},
   "source": [
    "### Choose cities and shapefiles"
   ]
  },
  {
   "cell_type": "code",
   "execution_count": null,
   "metadata": {},
   "outputs": [],
   "source": [
    "cities = [\"san_francisco\",\"chicago\"]\n",
    "tracts = [\"california_tracts_2018/cb_2018_06_tract_500k.shp\",\"illinois_tracts_2018/tl_2018_17_tract.shp\"]\n",
    "modif = [False,True]"
   ]
  },
  {
   "cell_type": "markdown",
   "metadata": {},
   "source": [
    "### Loading listings\n",
    " - Loading the dataset\n",
    " - Loading the shapefile for US Tracts\n",
    " - Using coordinates to determine tracts\n",
    " - Concatenating the description fields\n",
    " - Doing some data cleaning"
   ]
  },
  {
   "cell_type": "code",
   "execution_count": null,
   "metadata": {},
   "outputs": [],
   "source": [
    "frames = []\n",
    "for i in range(len(cities)):\n",
    "    new_listings = pd.read_csv(\"../original_data/airbnb_data/\" + cities[i] + \"_listings.csv\")[['id','summary','space','description','neighborhood_overview','notes','interaction','house_rules','host_about','host_id','latitude','longitude']]\n",
    "    \n",
    "    gdf = gpd.read_file(\"../original_data/\" + tracts[i]).to_crs(epsg=4326)\n",
    "    tract_to_add = []\n",
    "    for k in range(new_listings.shape[0]):\n",
    "        point = Point(new_listings[\"longitude\"][k], new_listings[\"latitude\"][k])\n",
    "        value = None\n",
    "        for j in range(gdf.shape[0]):\n",
    "            if gdf[\"geometry\"][j].contains(point):\n",
    "                if (modif[i]):\n",
    "                    value = \"1400000US\" + gdf[\"GEOID\"][j]\n",
    "                else:\n",
    "                    value = gdf[\"AFFGEOID\"][j]\n",
    "                break\n",
    "        tract_to_add.append(value)\n",
    "    new_listings[\"tract\"] = tract_to_add\n",
    "    \n",
    "    frames.append(new_listings)\n",
    "listings = pd.concat(frames).reset_index(drop=True)\n",
    "\n",
    "columns = ['summary','space','description','neighborhood_overview','notes','interaction','house_rules','host_about']\n",
    "to_add = []\n",
    "for i in range(listings.shape[0]):\n",
    "    description = \"\"\n",
    "    for j in columns:\n",
    "        item = listings[j][i]\n",
    "        if (isinstance(item, str)):\n",
    "            description += clean_text(item)\n",
    "    description = description[:-1]\n",
    "    to_add.append(description)\n",
    "listings['full_description'] = to_add\n",
    "\n",
    "listings = listings[['id', 'full_description', 'host_id', 'tract']]"
   ]
  },
  {
   "cell_type": "markdown",
   "metadata": {},
   "source": [
    "### First round of data cleaning\n",
    " - Removing duplicate descriptions\n",
    " - Removing too short descriptions\n",
    " - Removing rows with non-English description"
   ]
  },
  {
   "cell_type": "code",
   "execution_count": null,
   "metadata": {},
   "outputs": [],
   "source": [
    "listings = listings.drop_duplicates('full_description').reset_index(drop=True)"
   ]
  },
  {
   "cell_type": "code",
   "execution_count": null,
   "metadata": {},
   "outputs": [],
   "source": [
    "to_add = []\n",
    "for i in range(listings.shape[0]):\n",
    "    sent_count = textstat.sentence_count(listings['full_description'][i])\n",
    "    to_add.append(sent_count)\n",
    "listings['sent_count'] = to_add\n",
    "listings = listings[listings['sent_count'] > 2].reset_index(drop=True).drop('sent_count', axis=1)"
   ]
  },
  {
   "cell_type": "code",
   "execution_count": null,
   "metadata": {},
   "outputs": [],
   "source": [
    "to_add = []\n",
    "for i in range(listings.shape[0]):\n",
    "    try:\n",
    "        blob = detect(listings['full_description'][i])\n",
    "        to_add.append(blob)\n",
    "    except:\n",
    "        to_add.append(\"None\")\n",
    "listings['lang'] = to_add\n",
    "listings = listings[listings['lang'] == \"en\"].reset_index(drop=True).drop('lang', axis=1)"
   ]
  },
  {
   "cell_type": "markdown",
   "metadata": {},
   "source": [
    "### Final cleaning of the dataset\n",
    " - Removing 'None' wards (not found, in the water, etc)\n",
    " - Removing 'Fuzzy' duplicate descriptions"
   ]
  },
  {
   "cell_type": "code",
   "execution_count": null,
   "metadata": {},
   "outputs": [],
   "source": [
    "listings = listings[listings['tract'].notnull()].reset_index(drop=True)"
   ]
  },
  {
   "cell_type": "code",
   "execution_count": null,
   "metadata": {},
   "outputs": [],
   "source": [
    "idx = 0\n",
    "while (idx < listings.shape[0]):\n",
    "    print(\"{}/{}\".format(idx, listings.shape[0]), end='\\r')\n",
    "    subset = listings[(listings['tract'] == listings['tract'][idx]) & (listings['host_id'] == listings['host_id'][idx])].drop(idx)\n",
    "    to_remove = []\n",
    "    for index, row in subset.iterrows():\n",
    "        if (fuzz.ratio(listings['full_description'][idx], row['full_description']) > 60):\n",
    "            to_remove.append(index)\n",
    "    listings = listings.drop(listings.index[to_remove]).reset_index(drop=True)\n",
    "    idx += 1"
   ]
  },
  {
   "cell_type": "markdown",
   "metadata": {},
   "source": [
    "### Saving the dataset to .csv"
   ]
  },
  {
   "cell_type": "code",
   "execution_count": null,
   "metadata": {},
   "outputs": [],
   "source": [
    "listings_out = listings[['id','full_description','tract']]"
   ]
  },
  {
   "cell_type": "code",
   "execution_count": null,
   "metadata": {},
   "outputs": [],
   "source": [
    "listings_out.to_csv(\"../data/airbnb_listings_description/us_listings_description_tract.csv\", index=False)"
   ]
  },
  {
   "cell_type": "code",
   "execution_count": null,
   "metadata": {},
   "outputs": [],
   "source": []
  }
 ],
 "metadata": {
  "kernelspec": {
   "display_name": "Python 3",
   "language": "python",
   "name": "python3"
  },
  "language_info": {
   "codemirror_mode": {
    "name": "ipython",
    "version": 3
   },
   "file_extension": ".py",
   "mimetype": "text/x-python",
   "name": "python",
   "nbconvert_exporter": "python",
   "pygments_lexer": "ipython3",
   "version": "3.6.9"
  }
 },
 "nbformat": 4,
 "nbformat_minor": 4
}
